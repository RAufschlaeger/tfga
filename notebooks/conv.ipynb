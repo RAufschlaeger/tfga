{
 "cells": [
  {
   "cell_type": "code",
   "execution_count": 1,
   "metadata": {
    "tags": []
   },
   "outputs": [],
   "source": [
    "%load_ext autoreload\n",
    "%autoreload 2\n",
    "\n",
    "import matplotlib.pyplot as plt\n",
    "import tensorflow as tf\n",
    "# Make tensorflow not take over the entire GPU memory\n",
    "for gpu in tf.config.experimental.list_physical_devices('GPU'):\n",
    "    tf.config.experimental.set_memory_growth(gpu, True)\n",
    "from tfga import GeometricAlgebra\n",
    "from tfga.blades import BladeKind\n",
    "from tfga.layers import GeometricProductConv1D"
   ]
  },
  {
   "cell_type": "code",
   "execution_count": 2,
   "metadata": {
    "tags": []
   },
   "outputs": [
    {
     "output_type": "stream",
     "name": "stdout",
     "text": "(2, 4, 4, 16)\ntf.Tensor(\n[[[[  0. -36.   0.  36.   0.  36.  36. -36.  36.   0.  36.  36.  36.\n     36.  36.  36.]\n   [  0. -36.   0.  36.   0.  36.  36. -36.  36.   0.  36.  36.  36.\n     36.  36.  36.]\n   [  0. -36.   0.  36.   0.  36.  36. -36.  36.   0.  36.  36.  36.\n     36.  36.  36.]\n   [  0. -36.   0.  36.   0.  36.  36. -36.  36.   0.  36.  36.  36.\n     36.  36.  36.]]\n\n  [[  0. -36.   0.  36.   0.  36.  36. -36.  36.   0.  36.  36.  36.\n     36.  36.  36.]\n   [  0. -36.   0.  36.   0.  36.  36. -36.  36.   0.  36.  36.  36.\n     36.  36.  36.]\n   [  0. -36.   0.  36.   0.  36.  36. -36.  36.   0.  36.  36.  36.\n     36.  36.  36.]\n   [  0. -36.   0.  36.   0.  36.  36. -36.  36.   0.  36.  36.  36.\n     36.  36.  36.]]\n\n  [[  0. -36.   0.  36.   0.  36.  36. -36.  36.   0.  36.  36.  36.\n     36.  36.  36.]\n   [  0. -36.   0.  36.   0.  36.  36. -36.  36.   0.  36.  36.  36.\n     36.  36.  36.]\n   [  0. -36.   0.  36.   0.  36.  36. -36.  36.   0.  36.  36.  36.\n     36.  36.  36.]\n   [  0. -36.   0.  36.   0.  36.  36. -36.  36.   0.  36.  36.  36.\n     36.  36.  36.]]\n\n  [[  0. -24.   0.  24.   0.  24.  24. -24.  24.   0.  24.  24.  24.\n     24.  24.  24.]\n   [  0. -24.   0.  24.   0.  24.  24. -24.  24.   0.  24.  24.  24.\n     24.  24.  24.]\n   [  0. -24.   0.  24.   0.  24.  24. -24.  24.   0.  24.  24.  24.\n     24.  24.  24.]\n   [  0. -24.   0.  24.   0.  24.  24. -24.  24.   0.  24.  24.  24.\n     24.  24.  24.]]]\n\n\n [[[  0. -36.   0.  36.   0.  36.  36. -36.  36.   0.  36.  36.  36.\n     36.  36.  36.]\n   [  0. -36.   0.  36.   0.  36.  36. -36.  36.   0.  36.  36.  36.\n     36.  36.  36.]\n   [  0. -36.   0.  36.   0.  36.  36. -36.  36.   0.  36.  36.  36.\n     36.  36.  36.]\n   [  0. -36.   0.  36.   0.  36.  36. -36.  36.   0.  36.  36.  36.\n     36.  36.  36.]]\n\n  [[  0. -36.   0.  36.   0.  36.  36. -36.  36.   0.  36.  36.  36.\n     36.  36.  36.]\n   [  0. -36.   0.  36.   0.  36.  36. -36.  36.   0.  36.  36.  36.\n     36.  36.  36.]\n   [  0. -36.   0.  36.   0.  36.  36. -36.  36.   0.  36.  36.  36.\n     36.  36.  36.]\n   [  0. -36.   0.  36.   0.  36.  36. -36.  36.   0.  36.  36.  36.\n     36.  36.  36.]]\n\n  [[  0. -36.   0.  36.   0.  36.  36. -36.  36.   0.  36.  36.  36.\n     36.  36.  36.]\n   [  0. -36.   0.  36.   0.  36.  36. -36.  36.   0.  36.  36.  36.\n     36.  36.  36.]\n   [  0. -36.   0.  36.   0.  36.  36. -36.  36.   0.  36.  36.  36.\n     36.  36.  36.]\n   [  0. -36.   0.  36.   0.  36.  36. -36.  36.   0.  36.  36.  36.\n     36.  36.  36.]]\n\n  [[  0. -24.   0.  24.   0.  24.  24. -24.  24.   0.  24.  24.  24.\n     24.  24.  24.]\n   [  0. -24.   0.  24.   0.  24.  24. -24.  24.   0.  24.  24.  24.\n     24.  24.  24.]\n   [  0. -24.   0.  24.   0.  24.  24. -24.  24.   0.  24.  24.  24.\n     24.  24.  24.]\n   [  0. -24.   0.  24.   0.  24.  24. -24.  24.   0.  24.  24.  24.\n     24.  24.  24.]]]], shape=(2, 4, 4, 16), dtype=float32)\n"
    }
   ],
   "source": [
    "ga = GeometricAlgebra([0, 1, 1, 1])\n",
    "\n",
    "batch_size = 2\n",
    "sequence_length = 8\n",
    "c_in = 3\n",
    "c_out = 4\n",
    "kernel_size = 3\n",
    "\n",
    "a = ga.from_tensor_with_kind(tf.ones([batch_size, sequence_length, c_in, ga.num_blades]), BladeKind.MV)\n",
    "k = ga.from_tensor_with_kind(tf.ones([kernel_size, c_in, c_out, ga.num_blades]), BladeKind.MV)\n",
    "\n",
    "y = ga.geom_conv1d(a, k, 2, \"SAME\")\n",
    "\n",
    "print(y.shape)\n",
    "print(y)"
   ]
  },
  {
   "cell_type": "code",
   "execution_count": 3,
   "metadata": {
    "tags": []
   },
   "outputs": [
    {
     "output_type": "stream",
     "name": "stdout",
     "text": "(2, 4, 4, 16)\nMultiVector[batch_shape=(2, 4, 4)]\nMultiVector[-0.86*1 + 0.12*e_0 + -0.86*e_1 + 0.24*e_2 + 0.55*e_3 + -1.85*e_01 + -1.05*e_02 + 2.10*e_03 + 0.24*e_12 + 0.55*e_13 + -1.29*e_23 + 1.53*e_012 + -1.01*e_013 + -1.56*e_023 + -1.29*e_123 + -1.02*e_0123]\n"
    }
   ],
   "source": [
    "mv_indices = tf.range(ga.num_blades, dtype=tf.int64)\n",
    "\n",
    "conv_layer = GeometricProductConv1D(\n",
    "    ga, filters=c_out, kernel_size=kernel_size, stride=2, padding=\"SAME\",\n",
    "    blade_indices_kernel=tf.range(ga.num_blades, dtype=tf.int64),\n",
    "    blade_indices_bias=tf.range(ga.num_blades, dtype=tf.int64)\n",
    ")\n",
    "\n",
    "y2 = conv_layer(a)\n",
    "print(y2.shape)\n",
    "ga.print(y2)\n",
    "ga.print(y2[0, 0, 0])"
   ]
  }
 ],
 "metadata": {
  "language_info": {
   "codemirror_mode": {
    "name": "ipython",
    "version": 3
   },
   "file_extension": ".py",
   "mimetype": "text/x-python",
   "name": "python",
   "nbconvert_exporter": "python",
   "pygments_lexer": "ipython3",
   "version": "3.7.6-final"
  },
  "orig_nbformat": 2,
  "kernelspec": {
   "name": "python37664bittf2conda034469ea11204d31b38329519e9d7dbe",
   "display_name": "Python 3.7.6 64-bit ('tf2': conda)"
  }
 },
 "nbformat": 4,
 "nbformat_minor": 2
}