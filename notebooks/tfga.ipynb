{
 "cells": [
  {
   "cell_type": "code",
   "execution_count": 1,
   "metadata": {},
   "outputs": [],
   "source": [
    "%load_ext autoreload\n",
    "%autoreload 2\n",
    "\n",
    "import tensorflow as tf\n",
    "import numpy as np\n",
    "\n",
    "from tfga import GeometricAlgebra"
   ]
  },
  {
   "cell_type": "code",
   "execution_count": 2,
   "metadata": {},
   "outputs": [
    {
     "output_type": "stream",
     "name": "stdout",
     "text": "Cayley tensor shape: (16, 16, 16)\nBasis vectors: [MultiVector[1.00*e_0], MultiVector[1.00*e_1], MultiVector[1.00*e_2], MultiVector[1.00*e_3]]\n"
    }
   ],
   "source": [
    "sta = GeometricAlgebra([1, -1, -1, -1])\n",
    "print(\"Cayley tensor shape:\", sta.cayley.shape)\n",
    "print(\"Basis vectors:\", sta.basis_mvs)"
   ]
  },
  {
   "cell_type": "code",
   "execution_count": 3,
   "metadata": {},
   "outputs": [
    {
     "output_type": "stream",
     "name": "stdout",
     "text": "MultiVector[4.00*e_0]\nMultiVector[9.00*e_1]\nMultiVector[4.00*e_0] MultiVector[9.00*e_1]\n"
    }
   ],
   "source": [
    "a = (sta.basis_mvs[0] * 4.0)\n",
    "b = (9.0 * sta.basis_mvs[1])\n",
    "print(a)\n",
    "print(b)\n",
    "print(a, b)"
   ]
  },
  {
   "cell_type": "code",
   "execution_count": 4,
   "metadata": {},
   "outputs": [
    {
     "output_type": "stream",
     "name": "stdout",
     "text": "MultiVector[batch_shape=(4, 3), blades=[e_0]]\n"
    }
   ],
   "source": [
    "print(a.tile([4, 3]))"
   ]
  },
  {
   "cell_type": "code",
   "execution_count": 5,
   "metadata": {},
   "outputs": [
    {
     "output_type": "stream",
     "name": "stdout",
     "text": "a: MultiVector[4.00*e_0]\n~a: MultiVector[4.00*e_0]\ninv a: MultiVector[0.25*e_0]\nb: MultiVector[9.00*e_1]\n~b: MultiVector[9.00*e_1]\ninv b: MultiVector[-0.11*e_1]\n"
    }
   ],
   "source": [
    "print(\"a:\", a)\n",
    "print(\"~a:\", ~a)\n",
    "print(\"inv a:\", a.inverse())\n",
    "print(\"b:\", b)\n",
    "print(\"~b:\", ~b)\n",
    "print(\"inv b:\", b.inverse())"
   ]
  },
  {
   "cell_type": "code",
   "execution_count": 6,
   "metadata": {},
   "outputs": [
    {
     "output_type": "stream",
     "name": "stdout",
     "text": "c = a * b: MultiVector[36.00*e_01]\nc * c^-1: MultiVector[1.00*1]\na * a^-1 MultiVector[1.00*1]\nb * b^-1: MultiVector[1.00*1]\na^-1 * c: MultiVector[9.00*e_1] should be b: MultiVector[9.00*e_1] tf.Tensor(True, shape=(), dtype=bool)\nc * b^-1: MultiVector[4.00*e_0] should be a: MultiVector[4.00*e_0] tf.Tensor(True, shape=(), dtype=bool)\n"
    }
   ],
   "source": [
    "c = a * b\n",
    "print(\"c = a * b:\", c)\n",
    "print(\"c * c^-1:\", c * c.inverse())\n",
    "print(\"a * a^-1\", a * a.inverse())\n",
    "print(\"b * b^-1:\", b * b.inverse())\n",
    "print(\"a^-1 * c:\", a.inverse() * c, \"should be b:\", b, a.inverse() * c == b)\n",
    "print(\"c * b^-1:\", c * b.inverse(), \"should be a:\", a, c * b.inverse() == a)"
   ]
  },
  {
   "cell_type": "code",
   "execution_count": 7,
   "metadata": {},
   "outputs": [
    {
     "output_type": "stream",
     "name": "stdout",
     "text": "MultiVector[36.00*e_01 + 9.00*e_1]\n"
    }
   ],
   "source": [
    "d = a * b + b\n",
    "print(d)"
   ]
  },
  {
   "cell_type": "code",
   "execution_count": 8,
   "metadata": {},
   "outputs": [
    {
     "output_type": "stream",
     "name": "stdout",
     "text": "MultiVector[]\nMultiVector[36.00*e_01]\n"
    }
   ],
   "source": [
    "print(a | b)\n",
    "print(a ^ b)"
   ]
  },
  {
   "cell_type": "code",
   "execution_count": 9,
   "metadata": {},
   "outputs": [
    {
     "output_type": "stream",
     "name": "stdout",
     "text": "m: MultiVector[1.00*1 + 1.00*e_0 + 1.00*e_1 + 1.00*e_2 + 1.00*e_3 + 1.00*e_01 + 1.00*e_02 + 1.00*e_03 + 1.00*e_12 + 1.00*e_13 + 1.00*e_23 + 1.00*e_012 + 1.00*e_013 + 1.00*e_023 + 1.00*e_123 + 1.00*e_0123]\n~m: MultiVector[1.00*1 + 1.00*e_0 + 1.00*e_1 + 1.00*e_2 + 1.00*e_3 + -1.00*e_01 + -1.00*e_02 + -1.00*e_03 + -1.00*e_12 + -1.00*e_13 + -1.00*e_23 + -1.00*e_012 + -1.00*e_013 + -1.00*e_023 + -1.00*e_123 + 1.00*e_0123]\nbar m: MultiVector[1.00*1 + -1.00*e_0 + -1.00*e_1 + -1.00*e_2 + -1.00*e_3 + -1.00*e_01 + -1.00*e_02 + -1.00*e_03 + -1.00*e_12 + -1.00*e_13 + -1.00*e_23 + 1.00*e_012 + 1.00*e_013 + 1.00*e_023 + 1.00*e_123 + 1.00*e_0123]\nbar~m: MultiVector[1.00*1 + -1.00*e_0 + -1.00*e_1 + -1.00*e_2 + -1.00*e_3 + 1.00*e_01 + 1.00*e_02 + 1.00*e_03 + 1.00*e_12 + 1.00*e_13 + 1.00*e_23 + -1.00*e_012 + -1.00*e_013 + -1.00*e_023 + -1.00*e_123 + 1.00*e_0123]\n"
    }
   ],
   "source": [
    "m = sta.ones([])\n",
    "print(\"m:\", m)\n",
    "print(\"~m:\", m.reversion())\n",
    "print(\"bar m:\", m.conjugation())\n",
    "print(\"bar~m:\", m.grade_automorphism())"
   ]
  },
  {
   "cell_type": "code",
   "execution_count": 10,
   "metadata": {},
   "outputs": [
    {
     "output_type": "stream",
     "name": "stdout",
     "text": "[MultiVector[1.00*e_0], MultiVector[1.00*e_1]]\n"
    }
   ],
   "source": [
    "complex_ga = GeometricAlgebra([1, 1])\n",
    "print(complex_ga.basis_mvs)"
   ]
  },
  {
   "cell_type": "code",
   "execution_count": 11,
   "metadata": {},
   "outputs": [
    {
     "output_type": "stream",
     "name": "stdout",
     "text": "x: MultiVector[5.00*1]\ni^2: MultiVector[-1.00*1]\nr = e^(45° * e12): MultiVector[0.71*1 + 0.71*e_01]\nx * r (x rotated 45°): MultiVector[3.54*1 + 3.54*e_01]\nx * ~r (x rotated -45°): MultiVector[3.54*1 + -3.54*e_01]\n"
    }
   ],
   "source": [
    "x = complex_ga.as_mv(5.0)\n",
    "imag = complex_ga.basis_mvs[0] ^ complex_ga.basis_mvs[1]\n",
    "r = (np.deg2rad(45) * imag).approx_exp(30)\n",
    "print(\"x:\", x)\n",
    "print(\"i^2:\", imag * imag)\n",
    "print(\"r = e^(45° * e12):\", r)\n",
    "print(\"x * r (x rotated 45°):\", x * r)\n",
    "print(\"x * ~r (x rotated -45°):\", x * ~r)"
   ]
  },
  {
   "cell_type": "code",
   "execution_count": 12,
   "metadata": {},
   "outputs": [
    {
     "output_type": "stream",
     "name": "stdout",
     "text": "0 0° MultiVector[1.00*1]\n1 45° MultiVector[0.71*1 + 0.71*e_01]\n2 90° MultiVector[-0.00*1 + 1.00*e_01]\n3 135° MultiVector[-0.71*1 + 0.71*e_01]\n4 180° MultiVector[-1.00*1 + -0.00*e_01]\n5 225° MultiVector[-0.71*1 + -0.71*e_01]\n6 270° MultiVector[0.00*1 + -1.00*e_01]\n7 315° MultiVector[0.71*1 + -0.71*e_01]\n8 360° MultiVector[1.00*1 + 0.00*e_01]\n"
    }
   ],
   "source": [
    "for i in range(9):\n",
    "    print(i, \"%d°\" % (i * 45), r.int_pow(i))"
   ]
  },
  {
   "cell_type": "code",
   "execution_count": 13,
   "metadata": {},
   "outputs": [
    {
     "output_type": "stream",
     "name": "stdout",
     "text": "MultiVector[0.71*1 + 0.71*e_01]\n"
    }
   ],
   "source": [
    "print(r.int_pow(25))"
   ]
  },
  {
   "cell_type": "code",
   "execution_count": 14,
   "metadata": {},
   "outputs": [
    {
     "output_type": "stream",
     "name": "stdout",
     "text": "MultiVector[0.80*1]\nMultiVector[-0.22*1] expected -0.2231435513142097\nMultiVector[0.80*1] expected 0.8\nMultiVector[-283.90*1] expected 0.8\n"
    }
   ],
   "source": [
    "y = complex_ga.as_mv(0.8)\n",
    "print(y)\n",
    "print(y.approx_log(50), \"expected\", np.log(0.8))\n",
    "print(y.approx_log(50).approx_exp(50), \"expected\", 0.8)\n",
    "print(y.approx_exp(50).approx_log(50), \"expected\", 0.8) # doesn't work because approx_log only works for |x -1| < 1"
   ]
  },
  {
   "cell_type": "code",
   "execution_count": 15,
   "metadata": {},
   "outputs": [
    {
     "output_type": "stream",
     "name": "stdout",
     "text": "u: MultiVector[batch_shape=(3, 4), blades=[e_0, e_1]]\nu[0, 0]: MultiVector[4.00*e_0 + 9.00*e_1]\nu[:2, 0][0]: MultiVector[4.00*e_0 + 9.00*e_1]\n"
    }
   ],
   "source": [
    "u = a.tile([3, 4]) + b.tile([3, 4])\n",
    "print(\"u:\", u)\n",
    "print(\"u[0, 0]:\", u[0, 0])\n",
    "print(\"u[:2, 0][0]:\", u[:2, 0][0])"
   ]
  },
  {
   "cell_type": "code",
   "execution_count": 16,
   "metadata": {},
   "outputs": [
    {
     "output_type": "stream",
     "name": "stdout",
     "text": "u: MultiVector[batch_shape=(3, 4), blades=[e_0, e_1]]\nu2: MultiVector[batch_shape=(3, 4), blades=[e_1, e_0]]\nu==u2: tf.Tensor(True, shape=(), dtype=bool)\nu3: MultiVector[batch_shape=(1, 4), blades=[e_0, e_1]]\nu==u3: tf.Tensor(True, shape=(), dtype=bool)\n"
    }
   ],
   "source": [
    "print(\"u:\", u)\n",
    "\n",
    "u2 = (u[\"1\"] + u[\"0\"])\n",
    "print(\"u2:\", u2)\n",
    "print(\"u==u2:\", u2 == u)\n",
    "\n",
    "u3 = u[2:, ..., [\"1\", \"0\"]]\n",
    "print(\"u3:\", u3)\n",
    "print(\"u==u3:\", u == u3)"
   ]
  },
  {
   "cell_type": "code",
   "execution_count": 19,
   "metadata": {},
   "outputs": [
    {
     "output_type": "stream",
     "name": "stdout",
     "text": "MultiVector[1.00*e_0 + 1.00*e_1 + 1.00*e_2 + 1.00*e_3]\nMultiVector[1.00*e_1]\nMultiVector[1.00*e_1]\nR: tf.Tensor([ 1.  0. -0.], shape=(3,), dtype=float32)\nR: tf.Tensor([0. 0. 1. 1.], shape=(4,), dtype=float32)\nR: tf.Tensor(0.0, shape=(), dtype=float32)\ntf.Tensor(0.0, shape=(), dtype=float32)\n"
    }
   ],
   "source": [
    "v = sta.ones([], \"vector\")\n",
    "print(v)\n",
    "print(v[\"10\", \"1\"])\n",
    "print(v[\"1\"])\n",
    "print(\"R:\", v.tensor([\"0\", \"01\", \"10\"]))\n",
    "print(\"R:\", v.tensor([\"123\", \"01\", \"0\", \"0\"]))\n",
    "print(\"R:\", v.tensor(\"312\"))\n",
    "print(v.scalar)"
   ]
  },
  {
   "cell_type": "code",
   "execution_count": null,
   "metadata": {},
   "outputs": [],
   "source": []
  }
 ],
 "metadata": {
  "language_info": {
   "codemirror_mode": {
    "name": "ipython",
    "version": 3
   },
   "file_extension": ".py",
   "mimetype": "text/x-python",
   "name": "python",
   "nbconvert_exporter": "python",
   "pygments_lexer": "ipython3",
   "version": "3.7.6-final"
  },
  "orig_nbformat": 2,
  "kernelspec": {
   "name": "python37664bittf2conda034469ea11204d31b38329519e9d7dbe",
   "display_name": "Python 3.7.6 64-bit ('tf2': conda)"
  }
 },
 "nbformat": 4,
 "nbformat_minor": 2
}