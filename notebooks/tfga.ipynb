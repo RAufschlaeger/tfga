{
 "cells": [
  {
   "cell_type": "code",
   "execution_count": 3,
   "metadata": {},
   "outputs": [],
   "source": [
    "%load_ext autoreload\n",
    "%autoreload 2\n",
    "\n",
    "import tensorflow as tf\n",
    "import numpy as np\n",
    "\n",
    "from tfga import GeometricAlgebra"
   ]
  },
  {
   "cell_type": "code",
   "execution_count": 4,
   "metadata": {},
   "outputs": [],
   "source": [
    "sta = GeometricAlgebra([1, -1, -1, -1])"
   ]
  },
  {
   "cell_type": "code",
   "execution_count": 5,
   "metadata": {},
   "outputs": [
    {
     "output_type": "stream",
     "name": "stdout",
     "text": "MultiVector[1.00*e_01]\nMultiVector[4.00*e_0]\nMultiVector[9.00*e_1]\nMultiVector[4.00*e_0] MultiVector[9.00*e_1]\nMultiVector[1.00*e_0] MultiVector[1.00*e_1] MultiVector[1.00*e_0 + 1.00*e_1] MultiVector[1.00*e_01] MultiVector[-1.00*e_01]\n"
    }
   ],
   "source": [
    "sta.print(sta.geom_prod(sta.e(\"0\"), sta.e(\"1\")))\n",
    "a = sta.geom_prod(sta.e(\"0\"), sta.from_scalar(4.0))\n",
    "b = sta.geom_prod(sta.from_scalar(9.0), sta.e(\"1\"))\n",
    "sta.print(a)\n",
    "sta.print(b)\n",
    "sta.print(a, b)\n",
    "sta.print(\n",
    "    sta.e(\"0\"),\n",
    "    sta.e(\"1\"),\n",
    "    sta.e(\"0\", \"1\"),\n",
    "    sta.e(\"01\"),\n",
    "    sta.e(\"10\")\n",
    ")"
   ]
  },
  {
   "cell_type": "code",
   "execution_count": 6,
   "metadata": {},
   "outputs": [
    {
     "output_type": "stream",
     "name": "stdout",
     "text": "a: MultiVector[4.00*e_0]\n~a: MultiVector[4.00*e_0]\ninv a: MultiVector[0.25*e_0]\nb: MultiVector[9.00*e_1]\n~b: MultiVector[9.00*e_1]\ninv b: MultiVector[-0.11*e_1]\n"
    }
   ],
   "source": [
    "sta.print(\"a:\", a)\n",
    "sta.print(\"~a:\", sta.reversion(a))\n",
    "sta.print(\"inv a:\", sta.inverse(a))\n",
    "sta.print(\"b:\", b)\n",
    "sta.print(\"~b:\", sta.reversion(b))\n",
    "sta.print(\"inv b:\", sta.inverse(b))"
   ]
  },
  {
   "cell_type": "code",
   "execution_count": 7,
   "metadata": {},
   "outputs": [
    {
     "output_type": "stream",
     "name": "stdout",
     "text": "c = a * b: MultiVector[36.00*e_01]\nc * c^-1: MultiVector[1.00*1]\na * a^-1 MultiVector[1.00*1]\nb * b^-1: MultiVector[1.00*1]\na^-1 * c: MultiVector[9.00*e_1] should be b: MultiVector[9.00*e_1] tf.Tensor(True, shape=(), dtype=bool)\nc * b^-1: MultiVector[4.00*e_0] should be a: MultiVector[4.00*e_0] tf.Tensor(True, shape=(), dtype=bool)\n"
    }
   ],
   "source": [
    "c = sta.geom_prod(a, b)\n",
    "sta.print(\"c = a * b:\", c)\n",
    "sta.print(\"c * c^-1:\", sta.geom_prod(c, sta.inverse(c)))\n",
    "sta.print(\"a * a^-1\", sta.geom_prod(a, sta.inverse(a)))\n",
    "sta.print(\"b * b^-1:\", sta.geom_prod(b, sta.inverse(b)))\n",
    "a_inv_c = sta.geom_prod(sta.inverse(a), c)\n",
    "sta.print(\"a^-1 * c:\", a_inv_c, \"should be b:\", b, tf.reduce_all(a_inv_c == b))\n",
    "c_b_inv = sta.geom_prod(c, sta.inverse(b))\n",
    "sta.print(\"c * b^-1:\", c_b_inv, \"should be a:\", a, tf.reduce_all(c_b_inv == a))"
   ]
  },
  {
   "cell_type": "code",
   "execution_count": 8,
   "metadata": {},
   "outputs": [
    {
     "output_type": "stream",
     "name": "stdout",
     "text": "MultiVector[9.00*e_1 + 36.00*e_01]\n"
    }
   ],
   "source": [
    "d = sta.geom_prod(a, b) + b\n",
    "sta.print(d)"
   ]
  },
  {
   "cell_type": "code",
   "execution_count": 9,
   "metadata": {},
   "outputs": [
    {
     "output_type": "stream",
     "name": "stdout",
     "text": "MultiVector[]\nMultiVector[36.00*e_01]\n"
    }
   ],
   "source": [
    "sta.print(sta.inner_prod(a, b))\n",
    "sta.print(sta.ext_prod(a, b))"
   ]
  },
  {
   "cell_type": "code",
   "execution_count": 10,
   "metadata": {},
   "outputs": [
    {
     "output_type": "stream",
     "name": "stdout",
     "text": "m: MultiVector[1.00*1 + 1.00*e_0 + 1.00*e_1 + 1.00*e_2 + 1.00*e_3 + 1.00*e_01 + 1.00*e_02 + 1.00*e_03 + 1.00*e_12 + 1.00*e_13 + 1.00*e_23 + 1.00*e_012 + 1.00*e_013 + 1.00*e_023 + 1.00*e_123 + 1.00*e_0123]\n~m: MultiVector[1.00*1 + 1.00*e_0 + 1.00*e_1 + 1.00*e_2 + 1.00*e_3 + -1.00*e_01 + -1.00*e_02 + -1.00*e_03 + -1.00*e_12 + -1.00*e_13 + -1.00*e_23 + -1.00*e_012 + -1.00*e_013 + -1.00*e_023 + -1.00*e_123 + 1.00*e_0123]\nbar m: MultiVector[1.00*1 + -1.00*e_0 + -1.00*e_1 + -1.00*e_2 + -1.00*e_3 + -1.00*e_01 + -1.00*e_02 + -1.00*e_03 + -1.00*e_12 + -1.00*e_13 + -1.00*e_23 + 1.00*e_012 + 1.00*e_013 + 1.00*e_023 + 1.00*e_123 + 1.00*e_0123]\nbar~m: MultiVector[1.00*1 + -1.00*e_0 + -1.00*e_1 + -1.00*e_2 + -1.00*e_3 + 1.00*e_01 + 1.00*e_02 + 1.00*e_03 + 1.00*e_12 + 1.00*e_13 + 1.00*e_23 + -1.00*e_012 + -1.00*e_013 + -1.00*e_023 + -1.00*e_123 + 1.00*e_0123]\n"
    }
   ],
   "source": [
    "m = tf.ones(16)\n",
    "sta.print(\"m:\", m)\n",
    "sta.print(\"~m:\", sta.reversion(m))\n",
    "sta.print(\"bar m:\", sta.conjugation(m))\n",
    "sta.print(\"bar~m:\", sta.grade_automorphism(m))"
   ]
  },
  {
   "cell_type": "code",
   "execution_count": 11,
   "metadata": {},
   "outputs": [
    {
     "output_type": "stream",
     "name": "stdout",
     "text": "tf.Tensor(\n[[0. 1. 0. 0.]\n [0. 0. 1. 0.]], shape=(2, 4), dtype=float32)\n"
    }
   ],
   "source": [
    "complex_ga = GeometricAlgebra([1, 1])\n",
    "print(complex_ga.basis_mvs)"
   ]
  },
  {
   "cell_type": "code",
   "execution_count": 12,
   "metadata": {},
   "outputs": [
    {
     "output_type": "stream",
     "name": "stdout",
     "text": "x: MultiVector[5.00*1]\ne1: MultiVector[1.00*e_0]\ne2: MultiVector[1.00*e_1]\ni: MultiVector[1.00*e_01]\ni^2: MultiVector[-1.00*1]\nr = e^(45° * e12): MultiVector[nan*1 + nan*e_0 + nan*e_1 + nan*e_01]\nx * r (x rotated 45°): MultiVector[nan*1 + nan*e_0 + nan*e_1 + nan*e_01]\nx * ~r (x rotated -45°): MultiVector[nan*1 + nan*e_0 + nan*e_1 + nan*e_01]\n"
    }
   ],
   "source": [
    "x = complex_ga.from_scalar(5.0)\n",
    "imag = complex_ga.e(\"01\")\n",
    "r = complex_ga.approx_exp(complex_ga.geom_prod(complex_ga.from_scalar(45.0), imag))\n",
    "complex_ga.print(\"x:\", x)\n",
    "complex_ga.print(\"e1:\", complex_ga.basis_mvs[0])\n",
    "complex_ga.print(\"e2:\", complex_ga.basis_mvs[1])\n",
    "complex_ga.print(\"i:\", imag)\n",
    "complex_ga.print(\"i^2:\", complex_ga.geom_prod(imag, imag))\n",
    "complex_ga.print(\"r = e^(45° * e12):\", r)\n",
    "complex_ga.print(\"x * r (x rotated 45°):\", complex_ga.geom_prod(x, r))\n",
    "complex_ga.print(\"x * ~r (x rotated -45°):\", complex_ga.geom_prod(x, complex_ga.reversion(r)))"
   ]
  },
  {
   "cell_type": "code",
   "execution_count": 13,
   "metadata": {},
   "outputs": [
    {
     "output_type": "stream",
     "name": "stdout",
     "text": "0 0° MultiVector[1.00*1]\n1 45° MultiVector[nan*1 + nan*e_0 + nan*e_1 + nan*e_01]\n2 90° MultiVector[nan*1 + nan*e_0 + nan*e_1 + nan*e_01]\n3 135° MultiVector[nan*1 + nan*e_0 + nan*e_1 + nan*e_01]\n4 180° MultiVector[nan*1 + nan*e_0 + nan*e_1 + nan*e_01]\n5 225° MultiVector[nan*1 + nan*e_0 + nan*e_1 + nan*e_01]\n6 270° MultiVector[nan*1 + nan*e_0 + nan*e_1 + nan*e_01]\n7 315° MultiVector[nan*1 + nan*e_0 + nan*e_1 + nan*e_01]\n8 360° MultiVector[nan*1 + nan*e_0 + nan*e_1 + nan*e_01]\n"
    }
   ],
   "source": [
    "for i in range(9):\n",
    "    complex_ga.print(i, \"%d°\" % (i * 45), complex_ga.int_pow(r, i))"
   ]
  },
  {
   "cell_type": "code",
   "execution_count": 14,
   "metadata": {},
   "outputs": [
    {
     "output_type": "stream",
     "name": "stdout",
     "text": "MultiVector[nan*1 + nan*e_0 + nan*e_1 + nan*e_01]\n"
    }
   ],
   "source": [
    "complex_ga.print(complex_ga.int_pow(r, 25))"
   ]
  },
  {
   "cell_type": "code",
   "execution_count": 19,
   "metadata": {},
   "outputs": [
    {
     "output_type": "stream",
     "name": "stdout",
     "text": "MultiVector[0.80*1]\nMultiVector[-0.22*1] expected -0.2231435513142097\nMultiVector[0.80*1] expected 0.8\nMultiVector[-283.90*1] expected 0.8\n"
    }
   ],
   "source": [
    "y = complex_ga.from_scalar(0.8)\n",
    "complex_ga.print(y)\n",
    "complex_ga.print(complex_ga.approx_log(y), \"expected\", np.log(0.8))\n",
    "complex_ga.print(complex_ga.approx_exp(complex_ga.approx_log(y)), \"expected\", 0.8)\n",
    "complex_ga.print(complex_ga.approx_log(complex_ga.approx_exp(y)), \"expected\", 0.8) # doesn't work because approx_log only works for |x -1| < 1"
   ]
  },
  {
   "cell_type": "code",
   "execution_count": 24,
   "metadata": {},
   "outputs": [
    {
     "output_type": "stream",
     "name": "stdout",
     "text": "MultiVector[batch_shape=(3,)]\nMultiVector[4.00*e_0]\n"
    }
   ],
   "source": [
    "u = tf.tile(tf.expand_dims(a, axis=0), [3, 1])\n",
    "sta.print(u)\n",
    "sta.print(u[0])"
   ]
  },
  {
   "cell_type": "code",
   "execution_count": 40,
   "metadata": {},
   "outputs": [
    {
     "output_type": "stream",
     "name": "stdout",
     "text": "MultiVector[1.00*1 + 1.00*e_0 + 1.00*e_1 + 1.00*e_2 + 1.00*e_3 + 1.00*e_01 + 1.00*e_02 + 1.00*e_03 + 1.00*e_12 + 1.00*e_13 + 1.00*e_23 + 1.00*e_012 + 1.00*e_013 + 1.00*e_023 + 1.00*e_123 + 1.00*e_0123]\nMultiVector[1.00*e_1 + 1.00*e_01]\nMultiVector[1.00*e_2]\nR: tf.Tensor([ 1.  1. -1.], shape=(3,), dtype=float32)\nR: tf.Tensor([1. 1. 1. 1.], shape=(4,), dtype=float32)\nR: tf.Tensor([1. 1. 1.], shape=(3,), dtype=float32)\ntf.Tensor(1.0, shape=(), dtype=float32)\n"
    }
   ],
   "source": [
    "v = sta.from_tensor_with_kind(tf.ones(16, dtype=tf.float32), \"mv\")\n",
    "sta.print(v)\n",
    "sta.print(sta.keep_blades(v, [\"10\", \"1\"]))\n",
    "sta.print(sta.keep_blades(v, \"2\"))\n",
    "sta.print(\"R:\", sta.select_blades(v, [\"0\", \"01\", \"10\"]))\n",
    "sta.print(\"R:\", sta.select_blades(v, [\"123\", \"01\", \"0\", \"0\"]))\n",
    "sta.print(\"R:\", sta.select_blades(v, \"312\"))\n",
    "sta.print(v[..., 0])"
   ]
  },
  {
   "cell_type": "code",
   "execution_count": null,
   "metadata": {},
   "outputs": [],
   "source": []
  }
 ],
 "metadata": {
  "language_info": {
   "codemirror_mode": {
    "name": "ipython",
    "version": 3
   },
   "file_extension": ".py",
   "mimetype": "text/x-python",
   "name": "python",
   "nbconvert_exporter": "python",
   "pygments_lexer": "ipython3",
   "version": "3.7.6-final"
  },
  "orig_nbformat": 2,
  "kernelspec": {
   "name": "python37664bittf2conda034469ea11204d31b38329519e9d7dbe",
   "display_name": "Python 3.7.6 64-bit ('tf2': conda)"
  }
 },
 "nbformat": 4,
 "nbformat_minor": 2
}