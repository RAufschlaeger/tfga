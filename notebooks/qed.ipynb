{
 "cells": [
  {
   "cell_type": "code",
   "execution_count": 75,
   "metadata": {},
   "outputs": [],
   "source": [
    "from tfga import GeometricAlgebra\n",
    "import tensorflow as tf"
   ]
  },
  {
   "cell_type": "markdown",
   "metadata": {},
   "source": [
    "# Quantum Electrodynamics with Geometric Algebra\n",
    "\n",
    "## Theory overview\n",
    "Quantum Electrodynamics (QED) describes electrons, positrons (anti-electrons) and photons in a 4-dimensional spacetime with fields defined for all spacetime positions $X$. The 4-dimensional spacetime can be described by the [Spacetime Algebra (STA)](https://en.wikipedia.org/wiki/Spacetime_algebra) with basis vectors $\\gamma_0, \\gamma_1, \\gamma_2, \\gamma_3$ and corresponding metric $[1, -1, -1, -1]$. It contains two fields. The electron-positron field is a bispinor-field $\\psi(X)$ which in the context of Geometric Algebra (GA) is described by odd-grade multivectors of the STA. The photon field $A(X)$ is a vector-field (ie. multivectors of degree 1, one for each dimension).\n",
    "\n",
    "A field configuration, also known as a path, $P(X)$ contains values for the two fields at every spacetime position. Our goal is to calculate the QED action using GA which allows us to use algorithms that solve for field configurations . The action is the negative log-likelihood (NLL) of the field configuration, meaning it is a number which tells how likely a given field configuration is. It is not a probability as it is unnormalized. However even with only the NLL we can use sampling algorithms (eg. [Markov-Chain Monte-Carlo](https://en.wikipedia.org/wiki/Markov_chain_Monte_Carlo), [Variational Inference](https://en.wikipedia.org/wiki/Variational_Bayesian_methods)) to sample field configurations so that the sampled distribution matches the normalized distribution.\n",
    "\n",
    "The Lagrangian is given in Hestenes' article [Real Dirac Theory](https://www.researchgate.net/publication/266578033_REAL_DIRAC_THEORY) in equation (B.6) as\n",
    "\n",
    "$\\mathcal{L} = \\langle \\hbar (\\nabla \\psi(X)) i \\gamma_3 \\widetilde{\\psi}(X) - e A(X) \\psi(X) \\gamma_0 \\widetilde{\\psi}(X) - m \\psi(X) \\widetilde{\\psi}(X) \\rangle$\n",
    "\n",
    "where $\\langle ... \\rangle$ denotes getting the scalar part, $i = \\gamma_2 \\gamma_1$, $\\nabla = \\sum_{i=0}^{3} \\gamma_i \\delta^i$ and $\\widetilde{\\psi}(X)$ is the grade-reversal of $\\psi$.\n",
    "\n",
    "The action $S(P)$ for a field-configuration $P=(\\psi, A)$ is calculated by integrating the Lagrangian $\\mathcal{L}(P, X)$ over all space-time positions $X$.\n",
    "\n",
    "$S(\\psi, A) = \\int_{X \\in \\mathcal{X}} \\mathcal{L}(\\psi, A, X) dx$\n",
    "\n",
    "Finally as we are doing this numerically we need to discretize spacetime into a 4-dimensional grid. Integrals over spacetime then become sums over the grid. Derivatives become finite-differences or more complicated operations to avoid the [aliasing](https://arxiv.org/abs/hep-lat/0207008) which results in the [fermion doubling](https://en.wikipedia.org/wiki/Fermion_doubling) problem.\n",
    "\n",
    "## Getting started\n",
    "Let's start by defining the spacetime algebra as a geometric algebra in 1 time and 3 space dimensions with metric $[1, -1, -1, -1]$."
   ]
  },
  {
   "cell_type": "code",
   "execution_count": 76,
   "metadata": {},
   "outputs": [
    {
     "output_type": "stream",
     "name": "stdout",
     "text": "[MultiVector[1.00*e_0], MultiVector[1.00*e_1], MultiVector[1.00*e_2], MultiVector[1.00*e_3]]\n"
    }
   ],
   "source": [
    "sta_ga = GeometricAlgebra([1, -1, -1, -1])\n",
    "print(sta_ga.basis_mvs)"
   ]
  },
  {
   "cell_type": "markdown",
   "metadata": {},
   "source": [
    "We can see our four basis vectors displayed here each with a different ... basis. Let's try squaring them."
   ]
  },
  {
   "cell_type": "code",
   "execution_count": 77,
   "metadata": {},
   "outputs": [
    {
     "output_type": "stream",
     "name": "stdout",
     "text": "e_0^2: MultiVector[1.00*1]\ne_1^2: MultiVector[-1.00*1]\ne_2^2: MultiVector[-1.00*1]\ne_3^2: MultiVector[-1.00*1]\n"
    }
   ],
   "source": [
    "print(\"e_0^2:\", sta_ga.basis_mvs[0] * sta_ga.basis_mvs[0])\n",
    "print(\"e_1^2:\", sta_ga.basis_mvs[1] * sta_ga.basis_mvs[1])\n",
    "print(\"e_2^2:\", sta_ga.basis_mvs[2] * sta_ga.basis_mvs[2])\n",
    "print(\"e_3^2:\", sta_ga.basis_mvs[3] * sta_ga.basis_mvs[3])"
   ]
  },
  {
   "cell_type": "markdown",
   "metadata": {},
   "source": [
    "Squaring the basis vectors gave us back another purely scalar multivector. The squared bases indeed return the correct metric.\n",
    "\n",
    "We can create new multivectors of different kinds using the geometric algebra `sta_ga` object. Let's create some vectors such as the elements of the photon field and perform some operations to get a feel for them. We can use the methods on `sta_ga`, most of which take a `batch_shape` that says how many elements you want (`[]` meaning just a single one) and a `kind` that describes which elements it will set (eg. `\"even\"`, `\"mv\"` (meaning all), `\"vector\"`, `\"scalar\"`, ...). Alternatively we can just build everything out of the basis vectors ourselves by adding and multiplying them."
   ]
  },
  {
   "cell_type": "code",
   "execution_count": 78,
   "metadata": {},
   "outputs": [
    {
     "output_type": "stream",
     "name": "stdout",
     "text": "v1: MultiVector[1.00*e_0 + 1.00*e_1 + 1.00*e_2 + 1.00*e_3]\nv2: MultiVector[1.00*e_0 + 1.00*e_1]\nv1 * v2 (Geometric product): MultiVector[-1.00*e_02 + -1.00*e_12 + -1.00*e_03 + -1.00*e_13]\nv1 | v2 (Inner product): MultiVector[]\nv1 ^ v2 (Exterior product): MultiVector[-1.00*e_02 + -1.00*e_12 + -1.00*e_03 + -1.00*e_13]\nv3 = v1 + v2: MultiVector[2.00*e_0 + 2.00*e_1 + 1.00*e_2 + 1.00*e_3]\nv1 ^ v3: MultiVector[-2.00*1]\nv1 | v3: MultiVector[-2.00*1]\nv4 = v1 * v2: MultiVector[2.00*e_0 + 2.00*e_1 + 1.00*e_2 + 1.00*e_3]\nv1^-1 * v4: MultiVector[1.00*e_0 + 1.00*e_1] should be MultiVector[1.00*e_0 + 1.00*e_1]\n"
    }
   ],
   "source": [
    "v1 = sta_ga.ones(batch_shape=[], kind=\"vector\")\n",
    "print(\"v1:\", v1)\n",
    "\n",
    "v2 = sta_ga.basis_mvs[0] + sta_ga.basis_mvs[1]\n",
    "print(\"v2:\", v2)\n",
    "\n",
    "print(\"v1 * v2 (Geometric product):\", v1 * v2)\n",
    "print(\"v1 | v2 (Inner product):\", v1 | v2)\n",
    "print(\"v1 ^ v2 (Exterior product):\", v1 ^ v2)\n",
    "\n",
    "v3 = v1 + v2\n",
    "print(\"v3 = v1 + v2:\", v3)\n",
    "print(\"v1 ^ v3:\", v1 | v3)\n",
    "print(\"v1 | v3:\", v1 | v3)\n",
    "\n",
    "v4 = v1 * v2\n",
    "print(\"v4 = v1 * v2:\", v3)\n",
    "print(\"v1^-1 * v4:\", v1.inverse() * v4, \"should be\", v2)"
   ]
  },
  {
   "cell_type": "markdown",
   "metadata": {},
   "source": [
    "Now let's do the same for the bispinors (elements of even degree)."
   ]
  },
  {
   "cell_type": "code",
   "execution_count": 79,
   "metadata": {},
   "outputs": [
    {
     "output_type": "stream",
     "name": "stdout",
     "text": "b1: MultiVector[1.00*1 + 1.00*e_01 + 1.00*e_02 + 1.00*e_03 + 1.00*e_12 + 1.00*e_13 + 1.00*e_23 + 1.00*e_0123]\nb2: MultiVector[2.00*e_01 + 4.00*1]\nb1 | b2: MultiVector[6.00*e_01 + 6.00*1 + 4.00*e_12 + 4.00*e_02 + 4.00*e_13 + 4.00*e_03 + 6.00*e_0123 + 6.00*e_23]\nb1 ^ b2: MultiVector[2.00*e_12 + 2.00*e_02 + 2.00*e_13 + 2.00*e_03]\nb3 = b1 * b2: MultiVector[6.00*e_01 + 6.00*1 + 6.00*e_12 + 6.00*e_02 + 6.00*e_13 + 6.00*e_03 + 6.00*e_0123 + 6.00*e_23]\nb3 * b2^-1: MultiVector[1.00*1 + 1.00*e_01 + 1.00*e_02 + 1.00*e_12 + 1.00*e_03 + 1.00*e_13 + 1.00*e_23 + 1.00*e_0123] should be MultiVector[1.00*1 + 1.00*e_01 + 1.00*e_02 + 1.00*e_03 + 1.00*e_12 + 1.00*e_13 + 1.00*e_23 + 1.00*e_0123]\n~b2 (Grade reversal): MultiVector[-2.00*e_01 + 4.00*1]\nScalar part of b2: MultiVector[4.00*1]\ne_01 part of b2: MultiVector[2.00*e_01]\n"
    }
   ],
   "source": [
    "b1 = sta_ga.ones(batch_shape=[], kind=\"even\")\n",
    "print(\"b1:\", b1)\n",
    "\n",
    "b2 = 4.0 + sta_ga.basis_mvs[0] * sta_ga.basis_mvs[1] + sta_ga.basis_mvs[0] * sta_ga.basis_mvs[1]\n",
    "print(\"b2:\", b2)\n",
    "\n",
    "print(\"b1 | b2:\", b1 | b2)\n",
    "print(\"b1 ^ b2:\", b1 ^ b2)\n",
    "\n",
    "b3 = b1 * b2\n",
    "print(\"b3 = b1 * b2:\", b3)\n",
    "print(\"b3 * b2^-1:\", b3 * b2.inverse(), \"should be\", b1)\n",
    "\n",
    "print(\"~b2 (Grade reversal):\", ~b2)\n",
    "print(\"Scalar part of b2:\", b2[\"\"])\n",
    "print(\"e_01 part of b2:\", b2[\"01\"])"
   ]
  },
  {
   "cell_type": "markdown",
   "metadata": {},
   "source": [
    "Now we hopefully have some feel for how to operate with the geometric algebra numbers. So far we only worked with single numbers, but we can define a field (ie. a number for every grid point) by passing in a `batch_shape` that is the size of our grid. When printing the fields we won't see the actual numbers anymore, we will only see which blades are non-zero and the batch shape. However we can still access all of the numbers with the usual indexing rules."
   ]
  },
  {
   "cell_type": "code",
   "execution_count": 80,
   "metadata": {},
   "outputs": [
    {
     "output_type": "stream",
     "name": "stdout",
     "text": "A(X): MultiVector[batch_shape=(10, 10, 10, 10), blades=[e_0, e_1, e_2, e_3]]\nA(t=0, x=5, y=3, z=9): MultiVector[1.00*e_0 + 1.00*e_1 + 1.00*e_2 + 1.00*e_3]\nA(t=0, z=[3,4,5]): MultiVector[batch_shape=(10, 10, 3), blades=[e_0, e_1, e_2, e_3]]\ne_0 part of A(X): MultiVector[batch_shape=(10, 10, 10, 10), blades=[e_0]]\nA(0, 0, 0, 0) * ~A(0, 0, 0, 0): MultiVector[-2.00*1]\n"
    }
   ],
   "source": [
    "a = sta_ga.ones(batch_shape=[10, 10, 10, 10], kind=\"vector\")\n",
    "print(\"A(X):\", a)\n",
    "\n",
    "print(\"A(t=0, x=5, y=3, z=9):\", a[0, 5, 3, 9])\n",
    "print(\"A(t=0, z=[3,4,5]):\", a[0, :, :, 3:6])\n",
    "print(\"e_0 part of A(X):\", a[\"0\"])\n",
    "\n",
    "print(\"A(0, 0, 0, 0) * ~A(0, 0, 0, 0):\", (a * ~a)[0, 0, 0, 0])"
   ]
  },
  {
   "cell_type": "markdown",
   "metadata": {},
   "source": [
    "By now you will probably believe me that we can do make a bispinor field, so instead let's see how we can calculate derivatives.\n",
    "\n",
    "As mentioned in the beginning, derivatives become finite differences. To calculate finite differences we can take a copy of the field, shift it back by one in a dimension and subtract it. For instance of we were to calculate the derivative\n",
    "in the time direction we would shift the entire field by -1 along the time axis to get `A(X + TimeDirection * GridSpacing)` and subtract the actual field from this shifted field. All that is left then is to divide by the grid spacing.\n",
    "\n",
    "`d/dt A(X) = (A(X + TimeDirection * GridSpacing) - A(X)) / GridSpacing`\n",
    "\n",
    "To actually do the shifting we will use the `with_changes` method which allows copying of the multivector and overriding of its blade values so we will just shift the blade values themselves using [tf.roll](https://www.tensorflow.org/api_docs/python/tf/roll). A better abstraction that doesn't require using the interval blade values might be added later."
   ]
  },
  {
   "cell_type": "code",
   "execution_count": 81,
   "metadata": {},
   "outputs": [
    {
     "output_type": "stream",
     "name": "stdout",
     "text": "d/dt A(X) = (A(X + TimeDirection * GridSpacing) - A(X)) / GridSpacing: MultiVector[batch_shape=(10, 10, 10, 10), blades=[e_0, e_1, e_2, e_3]]\nd/dt A(0, 0, 0, 0): MultiVector[]\n"
    }
   ],
   "source": [
    "def finite_differences(field, axis, spacing):\n",
    "    shifted_blade_values = tf.roll(field.blade_values, shift=-1, axis=axis)\n",
    "\n",
    "    # Keep all properties of the old field, just use\n",
    "    # the new shifted field values instead.\n",
    "    shifted_field = field.with_changes(\n",
    "        blade_values=shifted_blade_values\n",
    "    )\n",
    "\n",
    "    return (shifted_field - field) / spacing\n",
    "\n",
    "deriv_t_a = finite_differences(a, axis=0, spacing=0.1)\n",
    "print(\"d/dt A(X) = (A(X + TimeDirection * GridSpacing) - A(X)) / GridSpacing:\", deriv_t_a)\n",
    "print(\"d/dt A(0, 0, 0, 0):\", deriv_t_a[0, 0, 0, 0])"
   ]
  },
  {
   "cell_type": "markdown",
   "metadata": {},
   "source": [
    "Maybe expectedly, as our field is just a constant value everywhere, we are left with a field that is zero everywhere. Now we have a finite differences operation that will work on fields of any kind.\n",
    "\n",
    "Now we have all the tools we need to actually calculate the QED action given a field configuration. As a reminder, the QED Lagrangian is given by\n",
    "\n",
    "$\\mathcal{L} = \\langle \\hbar (\\nabla \\psi(X)) i \\gamma_3 \\widetilde{\\psi}(X) - e A(X) \\psi(X) \\gamma_0 \\widetilde{\\psi}(X) - m \\psi(X) \\widetilde{\\psi}(X) \\rangle$\n",
    "\n",
    "and the action $S(\\psi, A)$ is the spacetime integral (now sum) over it.\n",
    "\n",
    "Let's start with the mass term on the right $m \\psi(X) \\widetilde{\\psi}(X)$."
   ]
  },
  {
   "cell_type": "code",
   "execution_count": 82,
   "metadata": {},
   "outputs": [
    {
     "output_type": "stream",
     "name": "stdout",
     "text": "Psi: MultiVector[batch_shape=(10, 10, 10, 10), blades=[1, e_01, e_02, e_03, e_12, e_13, e_23, e_0123]]\nPsi at (0, 0, 0, 0): MultiVector[2.00*1 + 1.00*e_01 + 1.00*e_02 + 1.00*e_03 + 1.00*e_12 + 1.00*e_13 + 1.00*e_23 + 1.00*e_0123]\nMass term: MultiVector[batch_shape=(10, 10, 10, 10), blades=[1, e_01, e_02, e_03, e_12, e_13, e_23, e_0123]]\nMass term at (0, 0, 0, 0): MultiVector[3.00*1 + 2.00*e_0123]\n"
    }
   ],
   "source": [
    "def get_mass_term(psi, electron_mass):\n",
    "    return electron_mass * psi * ~psi\n",
    "\n",
    "# Define psi as some arbitrary even-graded field for now\n",
    "psi = sta_ga.ones(batch_shape=[10, 10, 10, 10], kind=\"even\") + sta_ga.ones(batch_shape=[10, 10, 10, 10], kind=\"scalar\")\n",
    "print(\"Psi:\", psi)\n",
    "print(\"Psi at (0, 0, 0, 0):\", psi[0, 0, 0, 0])\n",
    "\n",
    "# The electron mass in planck units (hbar=1, c=1) is actually not 1 but something tiny.\n",
    "# However we won't bother with it for now.\n",
    "mass_term = get_mass_term(psi=psi, electron_mass=1.0)\n",
    "print(\"Mass term:\", mass_term)\n",
    "print(\"Mass term at (0, 0, 0, 0):\", mass_term[0, 0, 0, 0])"
   ]
  },
  {
   "cell_type": "markdown",
   "metadata": {},
   "source": [
    "Next the interaction term in the center that describes the scattering between the electron-positron field and the photon field $e A(X) \\psi(X) \\gamma_0 \\widetilde{\\psi}(X)$."
   ]
  },
  {
   "cell_type": "code",
   "execution_count": 83,
   "metadata": {},
   "outputs": [
    {
     "output_type": "stream",
     "name": "stdout",
     "text": "Interaction term: MultiVector[batch_shape=(10, 10, 10, 10), blades=[1, e_01, e_02, e_03, e_12, e_13, e_23, e_0123]]\nInteraction term at (0, 0, 0, 0): MultiVector[25.00*1 + -13.00*e_01 + -13.00*e_02 + -21.00*e_03 + -8.00*e_13 + -8.00*e_23]\n"
    }
   ],
   "source": [
    "def get_interaction_term(psi, a, electron_charge):\n",
    "    return electron_charge * a * psi * sta_ga.basis_mvs[0] * ~psi\n",
    "\n",
    "interaction_term = get_interaction_term(psi=psi, a=a, electron_charge=1.0)\n",
    "print(\"Interaction term:\", interaction_term)\n",
    "print(\"Interaction term at (0, 0, 0, 0):\", interaction_term[0, 0, 0, 0])"
   ]
  },
  {
   "cell_type": "markdown",
   "metadata": {},
   "source": [
    "And finally the momentum term for which we needed the finite differences $\\hbar (\\nabla \\psi(X)) i \\gamma_3 \\widetilde{\\psi}(X)$."
   ]
  },
  {
   "cell_type": "code",
   "execution_count": 84,
   "metadata": {},
   "outputs": [
    {
     "output_type": "stream",
     "name": "stdout",
     "text": "Momentum term: MultiVector[batch_shape=(10, 10, 10, 10), blades=[e_123, e_023, e_013, e_012, e_3, e_2, e_1, e_0]]\nMomentum term at (0, 0, 0, 0): MultiVector[]\n"
    }
   ],
   "source": [
    "def get_momentum_term(psi, spacing, hbar):\n",
    "    # Nabla Psi\n",
    "    dt_psi = finite_differences(psi, axis=0, spacing=spacing)\n",
    "    dx_psi = finite_differences(psi, axis=1, spacing=spacing)\n",
    "    dy_psi = finite_differences(psi, axis=2, spacing=spacing)\n",
    "    dz_psi = finite_differences(psi, axis=3, spacing=spacing)\n",
    "    d_psi = dt_psi + dx_psi + dy_psi + dz_psi\n",
    "\n",
    "    return hbar * d_psi * sta_ga.basis_mvs[1] * sta_ga.basis_mvs[2] * sta_ga.basis_mvs[3] * ~psi\n",
    "\n",
    "momentum_term = get_momentum_term(psi=psi, spacing=0.1, hbar=1.0)\n",
    "\n",
    "print(\"Momentum term:\", momentum_term)\n",
    "print(\"Momentum term at (0, 0, 0, 0):\", momentum_term[0, 0, 0, 0]) # Still zero ;("
   ]
  },
  {
   "cell_type": "markdown",
   "metadata": {},
   "source": [
    "Now that we have all the terms, we can add them up, sum over all grid points and take the scalar part to get the action."
   ]
  },
  {
   "cell_type": "code",
   "execution_count": 85,
   "metadata": {},
   "outputs": [
    {
     "output_type": "stream",
     "name": "stdout",
     "text": "Action: tf.Tensor(-280000.0, shape=(), dtype=float32)\n"
    }
   ],
   "source": [
    "def get_action(psi, a, spacing, electron_mass, electron_charge, hbar):\n",
    "    mass_term = get_mass_term(psi=psi, electron_mass=electron_mass)\n",
    "    interaction_term = get_interaction_term(psi=psi, a=a, electron_charge=electron_charge)\n",
    "    momentum_term = get_momentum_term(psi=psi, spacing=spacing, hbar=hbar)\n",
    "\n",
    "    # Sum terms and get scalar part\n",
    "    lagrangians = (momentum_term - mass_term - interaction_term)[\"\"]\n",
    "\n",
    "    # Sum lagrangians (one lagrangian for each spacetime point) over spacetime\n",
    "    # to get a single value, the action.\n",
    "    return tf.reduce_sum(lagrangians.blade_values)\n",
    "\n",
    "action = get_action(psi=psi, a=a, spacing=0.1, electron_mass=1.0, electron_charge=1.0, hbar=1.0)\n",
    "print(\"Action:\", action)"
   ]
  },
  {
   "cell_type": "markdown",
   "metadata": {},
   "source": [
    "Now that we can calculate the action for a given field configuration (ie. values for `psi` and `a` at every grid point) we could use a sampling algorithm\n",
    "to sample fields and calculate quantities of interest such as the correlation function, vacuum energy and more."
   ]
  }
 ],
 "metadata": {
  "language_info": {
   "codemirror_mode": {
    "name": "ipython",
    "version": 3
   },
   "file_extension": ".py",
   "mimetype": "text/x-python",
   "name": "python",
   "nbconvert_exporter": "python",
   "pygments_lexer": "ipython3",
   "version": "3.7.6-final"
  },
  "orig_nbformat": 2,
  "kernelspec": {
   "name": "python37664bittf2conda034469ea11204d31b38329519e9d7dbe",
   "display_name": "Python 3.7.6 64-bit ('tf2': conda)"
  }
 },
 "nbformat": 4,
 "nbformat_minor": 2
}